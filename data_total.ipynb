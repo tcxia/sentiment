{
 "cells": [
  {
   "cell_type": "code",
   "execution_count": 98,
   "metadata": {},
   "outputs": [],
   "source": [
    "import logging\n",
    "import os\n",
    "import codecs,sys\n",
    "\n",
    "import jieba\n",
    "import string\n",
    "import re\n",
    "\n",
    "import json\n",
    "import pandas as pd"
   ]
  },
  {
   "cell_type": "code",
   "execution_count": 56,
   "metadata": {},
   "outputs": [],
   "source": [
    "logging.basicConfig(format='[%(levelname)s] %(message)s',\n",
    "                   level=logging.DEBUG)\n",
    "logger = logging.getLogger()"
   ]
  },
  {
   "cell_type": "code",
   "execution_count": 57,
   "metadata": {},
   "outputs": [],
   "source": [
    "def read_data(file_dir):\n",
    "    contents = []\n",
    "    files = os.listdir(file_dir)\n",
    "    for file in files:\n",
    "        #print(os.path.join(file_dir,file))\n",
    "        with codecs.open(os.path.join(file_dir,file),'r',\n",
    "                         encoding='gbk',errors='ignore') as fr:\n",
    "            content = fr.readlines()\n",
    "            for c in content:\n",
    "                c = c.strip()\n",
    "                if len(c)!=0:\n",
    "                    contents.append(c)\n",
    "                \n",
    "    return contents"
   ]
  },
  {
   "cell_type": "code",
   "execution_count": 58,
   "metadata": {},
   "outputs": [],
   "source": [
    "neg_dir = './ChnSentiCorp_htl_ba_2000/neg'\n",
    "pos_dir = './ChnSentiCorp_htl_ba_2000/pos'\n",
    "neg_data = read_data(neg_dir)\n",
    "pos_data = read_data(pos_dir)"
   ]
  },
  {
   "cell_type": "code",
   "execution_count": 67,
   "metadata": {},
   "outputs": [],
   "source": [
    "def clearData(data):\n",
    "    new_data = []\n",
    "    for line in data:\n",
    "        line = line.strip()\n",
    "        intab, outtab = \"\",\"\"\n",
    "        transtab = str.maketrans(intab,outtab)\n",
    "#         print(transtab)\n",
    "        pun_num = string.punctuation + string.digits\n",
    "#         print(pun_num)\n",
    "#         line = line.encode('utf-8')\n",
    "#         line = line.translate(transtab,pun_num)\n",
    "#         line = line.decode('utf-8')\n",
    "        line = re.sub(\"[a-zA-Z0-9]\",\"\",line)\n",
    "        line = re.sub(\"[\\s+\\.\\!\\/_,$%^*(+\\\"\\'；：“”．]+|[+——！，。？?、~@#￥%……&*（）]+\"\n",
    "                     ,\"\",line)\n",
    "        new_data.append(line)\n",
    "    return new_data"
   ]
  },
  {
   "cell_type": "code",
   "execution_count": 71,
   "metadata": {},
   "outputs": [],
   "source": [
    "def sent2word(data):\n",
    "    new_data = []\n",
    "    for line in data:\n",
    "        segList = jieba.cut(line,cut_all=False)\n",
    "        segSentence = ''\n",
    "        for word in segList:\n",
    "            if word != '\\t':\n",
    "                segSentence += word + \" \"\n",
    "        new_data.append(segSentence.strip())\n",
    "    return new_data"
   ]
  },
  {
   "cell_type": "code",
   "execution_count": 95,
   "metadata": {},
   "outputs": [],
   "source": [
    "stopCount = [w.strip() for w in codecs.open('stopWord.txt','r',\n",
    "                                            encoding='utf-8',errors='ignore').readlines()]\n",
    "# print(stopCount)\n",
    "def removeStop(data):\n",
    "    new_data = []\n",
    "    sentence = ''\n",
    "    for line in data:\n",
    "        tmp = []\n",
    "        line = line.split(' ')\n",
    "        for word in line:\n",
    "            if word not in stopCount:\n",
    "                tmp.append(word)\n",
    "        new_data.append(tmp)\n",
    "    return new_data"
   ]
  },
  {
   "cell_type": "code",
   "execution_count": 111,
   "metadata": {},
   "outputs": [],
   "source": [
    "#print(neg_data[0])\n",
    "neg_new = clearData(neg_data)\n",
    "pos_new = clearData(pos_data)\n",
    "#print(neg_new[0])\n",
    "neg_new_clip = sent2word(neg_new)\n",
    "pos_new_clip = sent2word(pos_new)\n",
    "# print(neg_new_clip[:3])\n",
    "neg_new_clip_sop = removeStop(neg_new_clip)\n",
    "pos_new_clip_sop = removeStop(pos_new_clip)\n",
    "# print(neg_new_clip_sop[:3])"
   ]
  },
  {
   "cell_type": "code",
   "execution_count": 112,
   "metadata": {},
   "outputs": [],
   "source": [
    "df = pd.DataFrame(columns=('id','content','label'))\n",
    "for i in range(len(pos_new_clip_sop)):\n",
    "    cont = pos_new_clip_sop[i]\n",
    "#     print(cont)\n",
    "    li = 1\n",
    "    df = df.append(\n",
    "        {\n",
    "            'id':i,\n",
    "            'content':cont,\n",
    "            'label':li,\n",
    "            \n",
    "        },ignore_index=True \n",
    "    )\n",
    "df.to_csv('data.csv',mode='a+',index=False,header=None)"
   ]
  }
 ],
 "metadata": {
  "kernelspec": {
   "display_name": "Python [conda env:py36_tf2.0]",
   "language": "python",
   "name": "conda-env-py36_tf2.0-py"
  },
  "language_info": {
   "codemirror_mode": {
    "name": "ipython",
    "version": 3
   },
   "file_extension": ".py",
   "mimetype": "text/x-python",
   "name": "python",
   "nbconvert_exporter": "python",
   "pygments_lexer": "ipython3",
   "version": "3.6.9"
  }
 },
 "nbformat": 4,
 "nbformat_minor": 4
}
