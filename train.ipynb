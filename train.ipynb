{
 "cells": [
  {
   "cell_type": "code",
   "execution_count": 4,
   "metadata": {},
   "outputs": [],
   "source": [
    "import pandas as pd\n",
    "import numpy as np\n",
    "import gensim\n",
    "import codecs"
   ]
  },
  {
   "cell_type": "code",
   "execution_count": 64,
   "metadata": {},
   "outputs": [
    {
     "name": "stderr",
     "output_type": "stream",
     "text": [
      "/work/tcxia/anaconda3/envs/py36_tf2.0/lib/python3.6/site-packages/sklearn/externals/joblib/__init__.py:15: FutureWarning: sklearn.externals.joblib is deprecated in 0.21 and will be removed in 0.23. Please import this functionality directly from joblib, which can be installed with: pip install joblib. If this warning is raised when loading pickled models, you may need to re-serialize those models with scikit-learn 0.21+.\n",
      "  warnings.warn(msg, category=FutureWarning)\n"
     ]
    }
   ],
   "source": [
    "from sklearn import svm\n",
    "from sklearn import metrics\n",
    "from sklearn.externals import joblib"
   ]
  },
  {
   "cell_type": "code",
   "execution_count": 6,
   "metadata": {},
   "outputs": [],
   "source": [
    "def getWordVecs(wordList,model):\n",
    "    vecs = []\n",
    "    for word in wordList:\n",
    "        word = word.replace('\\n','')\n",
    "        try:\n",
    "            vecs.append(model[word])\n",
    "        except KeyError:\n",
    "            continue\n",
    "    return np.array(vecs,dtype='float')\n",
    "\n",
    "def buildVecs(data,model):\n",
    "    new_vec = []\n",
    "    for line in data:\n",
    "        vecs = getWordVecs(line,model)\n",
    "        if len(vecs) > 0:\n",
    "            vecsArray = sum(np.array(vecs)) / len(vecs)\n",
    "            new_vec.append(vecsArray)\n",
    "    return new_vec"
   ]
  },
  {
   "cell_type": "code",
   "execution_count": 35,
   "metadata": {},
   "outputs": [
    {
     "name": "stdout",
     "output_type": "stream",
     "text": [
      "3920\n",
      "3920\n"
     ]
    }
   ],
   "source": [
    "df = pd.read_csv('./data.csv')\n",
    "content = df['content'].tolist()\n",
    "sents = [eval(cont) for cont in content]\n",
    "print(len(sents))\n",
    "labels = df['label'].tolist()\n",
    "print(len(labels))"
   ]
  },
  {
   "cell_type": "code",
   "execution_count": 33,
   "metadata": {},
   "outputs": [],
   "source": [
    "model = gensim.models.KeyedVectors.load_word2vec_format('semi.txt',binary=False)"
   ]
  },
  {
   "cell_type": "code",
   "execution_count": 45,
   "metadata": {},
   "outputs": [],
   "source": [
    "data_vec = []\n",
    "data_label = []\n",
    "for i in range(len(sents)):\n",
    "    senl= []\n",
    "    sent = sents[i]\n",
    "    for word in sent:\n",
    "        try:\n",
    "            senl.append(model[word])\n",
    "        except KeyError:\n",
    "             continue\n",
    "    \n",
    "    sen_arr = np.array(senl,dtype='float')\n",
    "#     print(sen_arr.shape)\n",
    "    if sen_arr.shape[0] > 0:\n",
    "        sen_mean = sum(np.array(sen_arr)) / len(sen_arr)\n",
    "        data_vec.append(sen_mean)\n",
    "        data_label.append(labels[i])"
   ]
  },
  {
   "cell_type": "code",
   "execution_count": 46,
   "metadata": {},
   "outputs": [
    {
     "name": "stdout",
     "output_type": "stream",
     "text": [
      "3894\n",
      "3894\n"
     ]
    }
   ],
   "source": [
    "print(len(data_vec))\n",
    "print(len(data_label))"
   ]
  },
  {
   "cell_type": "code",
   "execution_count": 47,
   "metadata": {},
   "outputs": [
    {
     "data": {
      "text/plain": [
       "array([-0.10993999,  0.06641447, -0.05072101, -0.201995  , -0.19727182,\n",
       "       -0.52302482, -0.37903758,  0.00688439, -0.15935975,  0.18700947,\n",
       "        0.45149113,  0.15577152,  0.42791057,  0.26817396, -0.62140486,\n",
       "       -0.46092706, -0.23811863,  0.28554146, -0.04006855,  0.02339407,\n",
       "       -0.34098106,  0.23956856,  0.26835684,  0.32757492,  0.10118926,\n",
       "       -0.64024966, -0.23753096, -0.04946006, -0.47493383,  0.05961042,\n",
       "        0.32469481,  0.14974848,  0.37311247,  0.24549072,  0.4817137 ,\n",
       "        0.13768423,  0.58890011,  0.08908673,  0.33993939,  0.27214588,\n",
       "       -0.052873  ,  0.01871164,  0.23220047,  0.23382714, -0.34208829,\n",
       "       -0.25010307,  0.19738127,  0.40358933,  0.17667609, -0.19864382,\n",
       "       -0.06180927,  0.12876465, -0.2183958 ,  0.12580525, -0.57994186,\n",
       "       -0.15104831, -0.15488388, -0.50005873, -0.17037234,  0.22653175,\n",
       "        0.10393393,  0.04222002,  0.36653253,  0.03969327, -0.13315704,\n",
       "        0.24272049, -0.1347061 ,  0.77116493,  0.12543713,  0.06907865,\n",
       "        0.49244326,  0.19934294, -0.27382068,  0.53338012,  0.02530087,\n",
       "        0.03780683,  0.00296201,  0.23707155,  0.64529679,  0.58151312,\n",
       "       -0.12170913, -0.41293402, -0.1827876 ,  0.2044263 , -0.00729043,\n",
       "       -0.2487358 , -0.44914866,  0.39534257, -0.10590312, -0.26256406,\n",
       "       -0.0062881 , -0.04954992, -0.10557833,  0.29664091, -0.43694776,\n",
       "        0.02360467,  0.04948947,  0.06470644, -0.22190235,  0.19323161])"
      ]
     },
     "execution_count": 47,
     "metadata": {},
     "output_type": "execute_result"
    }
   ],
   "source": [
    "data_vec[0]"
   ]
  },
  {
   "cell_type": "code",
   "execution_count": 48,
   "metadata": {},
   "outputs": [
    {
     "data": {
      "text/plain": [
       "0"
      ]
     },
     "execution_count": 48,
     "metadata": {},
     "output_type": "execute_result"
    }
   ],
   "source": [
    "data_label[0]"
   ]
  },
  {
   "cell_type": "code",
   "execution_count": 51,
   "metadata": {},
   "outputs": [
    {
     "data": {
      "text/plain": [
       "SVC(C=2, break_ties=False, cache_size=200, class_weight=None, coef0=0.0,\n",
       "    decision_function_shape='ovr', degree=3, gamma='scale', kernel='rbf',\n",
       "    max_iter=-1, probability=True, random_state=None, shrinking=True, tol=0.001,\n",
       "    verbose=False)"
      ]
     },
     "execution_count": 51,
     "metadata": {},
     "output_type": "execute_result"
    }
   ],
   "source": [
    "clf = svm.SVC(C=2,probability=True)\n",
    "clf.fit(data_vec,data_label)"
   ]
  },
  {
   "cell_type": "code",
   "execution_count": 52,
   "metadata": {},
   "outputs": [
    {
     "data": {
      "text/plain": [
       "0.5880842321520288"
      ]
     },
     "execution_count": 52,
     "metadata": {},
     "output_type": "execute_result"
    }
   ],
   "source": [
    "clf.score(data_vecec,data_label)"
   ]
  },
  {
   "cell_type": "code",
   "execution_count": 53,
   "metadata": {},
   "outputs": [],
   "source": [
    "import matplotlib.pyplot as plt\n",
    "%matplotlib inline"
   ]
  },
  {
   "cell_type": "code",
   "execution_count": 63,
   "metadata": {},
   "outputs": [
    {
     "name": "stdout",
     "output_type": "stream",
     "text": [
      "(3894, 100)\n",
      "(3894,)\n"
     ]
    },
    {
     "data": {
      "image/png": "[encoded data removed]",
      "text/plain": [
       "<Figure size 432x288 with 1 Axes>"
      ]
     },
     "metadata": {
      "needs_background": "light"
     },
     "output_type": "display_data"
    }
   ],
   "source": [
    "print(np.array(data_vec).shape)\n",
    "pred_probas = clf.predict_proba(data_vec)[:,1]\n",
    "print(pred_probas.shape)\n",
    "fpr,tpr,_ = metrics.roc_curve(data_label,pred_probas)\n",
    "roc_auc = metrics.auc(fpr,tpr)\n",
    "plt.plot(fpr, tpr, label = 'area = %.2f' % roc_auc)\n",
    "plt.plot([0, 1], [0, 1], 'k--')\n",
    "plt.xlim([0.0, 1.0])\n",
    "plt.ylim([0.0, 1.05])\n",
    "plt.legend(loc = 'lower right')\n",
    "plt.show()"
   ]
  },
  {
   "cell_type": "code",
   "execution_count": 65,
   "metadata": {},
   "outputs": [
    {
     "data": {
      "text/plain": [
       "['semi_mode.m']"
      ]
     },
     "execution_count": 65,
     "metadata": {},
     "output_type": "execute_result"
    }
   ],
   "source": [
    "joblib.dump(clf,'semi_mode.m')"
   ]
  },
  {
   "cell_type": "code",
   "execution_count": null,
   "metadata": {},
   "outputs": [],
   "source": []
  }
 ],
 "metadata": {
  "kernelspec": {
   "display_name": "Python [conda env:py36_tf2.0]",
   "language": "python",
   "name": "conda-env-py36_tf2.0-py"
  },
  "language_info": {
   "codemirror_mode": {
    "name": "ipython",
    "version": 3
   },
   "file_extension": ".py",
   "mimetype": "text/x-python",
   "name": "python",
   "nbconvert_exporter": "python",
   "pygments_lexer": "ipython3",
   "version": "3.6.9"
  }
 },
 "nbformat": 4,
 "nbformat_minor": 4
}
